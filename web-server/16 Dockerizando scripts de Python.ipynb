{
 "cells": [
  {
   "attachments": {},
   "cell_type": "markdown",
   "metadata": {},
   "source": [
    "- Se Screa el archivo Dockerfile\n",
    "- Se crea el archivo **docker-compose.yml**\n",
    "- se corre el comando **docker-compose build** para construir el contenedor\n",
    "- lanzamos el contenedor: **docker-compose up -d**\n",
    "  - **docker-compose down**\n",
    "- PAra ver el estado del contenedor: **docker-compose ps**\n",
    "- PAra ingresar: **docker-compose exec app_final bash**\n",
    "  - app_final es del archivo docker-compose.yml\n",
    "  - es como conectarce a un server en la nube\n",
    "  - quedamos en la Carpeta creada /Docker_AppFinal\n",
    "- PAra salir del container damos exit\n"
   ]
  },
  {
   "attachments": {},
   "cell_type": "markdown",
   "metadata": {},
   "source": [
    "# Si hacemos un cambio el la carpeta, debemos corres los comando anterirores nuevamente.\n",
    "\n",
    "# pero hay un truco. \n",
    "- En el archivo docker-compose.yml:\n",
    "```sh\n",
    "services:\n",
    "  app_final:\n",
    "    build:\n",
    "      context: .\n",
    "      dockerfile: Dockerfile\n",
    "    volumes:\n",
    "      - .:/Docker_AppFinal \n",
    "```\n"
   ]
  },
  {
   "attachments": {},
   "cell_type": "markdown",
   "metadata": {},
   "source": [
    "# Docker in the web server\n"
   ]
  },
  {
   "attachments": {},
   "cell_type": "markdown",
   "metadata": {},
   "source": []
  }
 ],
 "metadata": {
  "language_info": {
   "name": "python"
  },
  "orig_nbformat": 4
 },
 "nbformat": 4,
 "nbformat_minor": 2
}
